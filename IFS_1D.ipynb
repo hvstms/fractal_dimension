{
 "cells": [
  {
   "cell_type": "markdown",
   "metadata": {},
   "source": [
    "#### Kérdések:\n",
    "    hány szintet eshet az attraktor közelítése egy lépéssel?\n",
    "    szabad-e az attraktort lokálisan mélyíteni? hogyan?\n",
    "    delta. és deepen => hibás algoritmus?"
   ]
  },
  {
   "cell_type": "markdown",
   "metadata": {},
   "source": [
    "#### Visualisation: plotly, dash"
   ]
  },
  {
   "cell_type": "markdown",
   "metadata": {},
   "source": [
    "## So far only works for IFS's with SSP"
   ]
  },
  {
   "cell_type": "code",
   "execution_count": 1,
   "metadata": {},
   "outputs": [],
   "source": [
    "import numpy as np\n",
    "from numpy.linalg import lstsq\n",
    "import scipy.optimize as opt\n",
    "from bisect import insort_left\n",
    "\n",
    "from IPython.display import clear_output\n",
    "import time\n",
    "import itertools\n",
    "from copy import deepcopy\n",
    "\n",
    "import seaborn as sns\n",
    "import matplotlib.pyplot as plt\n",
    "from matplotlib.lines import Line2D\n",
    "import plotly.graph_objects as go"
   ]
  },
  {
   "cell_type": "markdown",
   "metadata": {},
   "source": [
    "### Init & Tools"
   ]
  },
  {
   "cell_type": "code",
   "execution_count": 2,
   "metadata": {},
   "outputs": [
    {
     "data": {
      "image/png": "[encoded data removed]",
      "text/plain": [
       "<Figure size 720x72 with 1 Axes>"
      ]
     },
     "metadata": {
      "needs_background": "light"
     },
     "output_type": "display_data"
    }
   ],
   "source": [
    "sns.set_palette('deep')\n",
    "palette = itertools.cycle(sns.color_palette())\n",
    "\n",
    "sns.palplot(sns.color_palette())"
   ]
  },
  {
   "cell_type": "code",
   "execution_count": 3,
   "metadata": {},
   "outputs": [],
   "source": [
    "flatten = lambda li: [item for sublist in li for item in sublist]"
   ]
  },
  {
   "cell_type": "code",
   "execution_count": 4,
   "metadata": {},
   "outputs": [],
   "source": [
    "def showProgress(x):\n",
    "    size = 70\n",
    "    done = int(x*70)\n",
    "    percent = str(x*100//1) + '%'\n",
    "    \n",
    "    clear_output(wait=True)\n",
    "    print('%s[%s%s]\\n' % (percent, '#'*done, ' '*(size-done)), end='')"
   ]
  },
  {
   "cell_type": "markdown",
   "metadata": {},
   "source": [
    "### Infrastructure"
   ]
  },
  {
   "cell_type": "code",
   "execution_count": 5,
   "metadata": {},
   "outputs": [],
   "source": [
    "class Interval:\n",
    "    def __init__(self, x, y):\n",
    "        self.start = x\n",
    "        self.end = y\n",
    "        \n",
    "    def __repr__(self):\n",
    "        return \"Interval\" + str([self.start,self.end])\n",
    "        \n",
    "    def __lt__(self, other):\n",
    "        return self.start < other.start\n",
    "        \n",
    "    def setStart(self, x):\n",
    "        self.start = x\n",
    "        \n",
    "    def setEnd(self, x):\n",
    "        self.end = x\n",
    "    \n",
    "    def lebesgue(self):\n",
    "        return self.end - self.start\n",
    "    \n",
    "    def show(self,h,c,l=None):\n",
    "        plt.plot([self.start,self.end],[h,h],linewidth=5,color=c,alpha=1,label=l)"
   ]
  },
  {
   "cell_type": "code",
   "execution_count": 6,
   "metadata": {},
   "outputs": [],
   "source": [
    "class AffineFunction:\n",
    "    def __init__(self, contraction, translation):\n",
    "        self.translation = translation\n",
    "        self.contraction = contraction\n",
    "    \n",
    "    def __lt__(self, other):\n",
    "        return self.translation < other.translation\n",
    "        \n",
    "    def evaluate(self, x):\n",
    "        return self.contraction * x + self.translation\n",
    "    \n",
    "    def show(self):\n",
    "        c = next(palette)\n",
    "        y0, y1 = [self.evaluate(0), self.evaluate(1)]\n",
    "        plt.gca().add_patch(plt.Rectangle(xy=(0,y0), width=1, height=y1-y0, color=c, alpha=0.1))\n",
    "        plt.plot([y0, y1], linewidth=3, color=c)\n",
    "\n",
    "class IteratedFunctionSystem:\n",
    "    def __init__(self, coefs):\n",
    "        tFuncs = list(map(lambda x: AffineFunction(x[0],x[1]), coefs))\n",
    "        self.functions = sorted(tFuncs)\n",
    "        self.s0 = opt.brentq(lambda s: sum([affine.contraction**s for affine in tFuncs]) - 1, 0, 1)\n",
    "        self.cdf = np.cumsum([affine.contraction**self.s0 for affine in tFuncs])\n",
    "    \n",
    "    def actOnPoint(self, x):\n",
    "        rnd = np.random.random()\n",
    "        idx = len(list(filter(lambda z: z<rnd, self.cdf)))\n",
    "        return self.functions[idx].evaluate(x)\n",
    "    \n",
    "    def actOnInterval(self, interval):\n",
    "        return [Interval(f.evaluate(interval.start), f.evaluate(interval.end)) for f in self.functions]\n",
    "    \n",
    "    def show(self):\n",
    "        plt.figure(figsize=[5, 5])\n",
    "        plt.axis((0, 1, 0, 1))\n",
    "        [affine.show() for affine in self.functions]\n",
    "        plt.show()"
   ]
  },
  {
   "cell_type": "code",
   "execution_count": 7,
   "metadata": {},
   "outputs": [],
   "source": [
    "class Attractor:\n",
    "    def __init__(self,ifs):\n",
    "        self.ifs = ifs\n",
    "        self.level = 0\n",
    "        self.approx = [Interval(0,1)]\n",
    "        \n",
    "    def reset(self):\n",
    "        self.__init__(self.ifs)\n",
    "    \n",
    "    def deepen(self):\n",
    "        self.approx = sorted(flatten([self.ifs.actOnInterval(interval) for interval in self.approx]))\n",
    "        self.level += 1\n",
    "    \n",
    "    def undoDeepen(self):\n",
    "        size = len(ifs.functions)\n",
    "        nIter = size**(self.level-1)\n",
    "        self.approx = [Interval(self.approx[size*i].start, self.approx[size*(i)+size-1].end) for i in range(nIter)]\n",
    "        self.level -= 1\n",
    "    \n",
    "    def show(self, h, c):\n",
    "        [interval.show(h,c) for interval in self.approx]\n",
    "\n",
    "class RandomWalkByIFS:\n",
    "    def __init__(self, ifs):\n",
    "        self.ifs = ifs\n",
    "        self.position = np.random.random()\n",
    "        self.orbit = [self.position] # it is the sorted list of orbit\n",
    "        self.nPoints = 1\n",
    "        \n",
    "    def reset(self):\n",
    "        self.__init__(self.ifs)\n",
    "        \n",
    "    def step(self):\n",
    "        self.position = self.ifs.actOnPoint(self.position)\n",
    "        insort_left(self.orbit, self.position)\n",
    "        self.nPoints += 1\n",
    "\n",
    "    def cover(self, delta):\n",
    "        firstPoint = self.orbit[0]\n",
    "        tCover = [Interval(firstPoint - delta, firstPoint + delta)]\n",
    "        \n",
    "        end = firstPoint + delta\n",
    "        for point in self.orbit[1:]:\n",
    "            if (point - delta < end):\n",
    "                end = point + delta\n",
    "                tCover[-1].setEnd(end)\n",
    "            else:\n",
    "                end = point + delta\n",
    "                tCover.append(Interval(point - delta, end))\n",
    "        return tCover"
   ]
  },
  {
   "cell_type": "code",
   "execution_count": 8,
   "metadata": {},
   "outputs": [],
   "source": [
    "def lambdaDiff(att, cov): # might be slow\n",
    "    diff = 0\n",
    "    while len(cov)!=0 and len(att)!=0:\n",
    "        cSlice = cov.pop(0)\n",
    "        aSlice = att.pop(0)\n",
    "\n",
    "        if (cSlice.start < aSlice.start):\n",
    "            if (cSlice.end < aSlice.end):\n",
    "                aSlice.setStart(max(cSlice.end, aSlice.start))\n",
    "                att.insert(0, aSlice)\n",
    "            else:\n",
    "                cov.insert(0, cSlice)\n",
    "        else:\n",
    "            if (cSlice.end < aSlice.end):\n",
    "                diff += cSlice.start - aSlice.start\n",
    "                aSlice.setStart(cSlice.end)\n",
    "                att.insert(0, aSlice)\n",
    "            else:\n",
    "                cov.insert(0, cSlice)\n",
    "                aSlice.setEnd(min(cSlice.start, aSlice.end))\n",
    "                diff += aSlice.lebesgue()\n",
    "\n",
    "    diff += att[0].lebesgue() if (len(att)!=0) else 0\n",
    "    return diff\n",
    "\n",
    "def uncovered(delta, attractor, rw):\n",
    "    att = deepcopy(attractor.approx)\n",
    "    cov = rw.cover(delta)\n",
    "    return lambdaDiff(att,cov)\n",
    "\n",
    "def getDelta(att, rw, acc=10):\n",
    "    return opt.brentq(lambda delta: (uncovered(delta, att, rw)==0)-.5, 0, 1, xtol=10**(-acc))"
   ]
  },
  {
   "cell_type": "code",
   "execution_count": 9,
   "metadata": {},
   "outputs": [],
   "source": [
    "def run(attractor, rw, nIter=100, accuracy=10):\n",
    "    start_time = time.time()\n",
    "\n",
    "    liDelta = [(1,max(rw.position, 1-rw.position))]\n",
    "\n",
    "    for i in range(nIter):\n",
    "        rw.step()\n",
    "        newDelta = getDelta(att=attractor, rw=rw, acc=accuracy)\n",
    "        if ((liDelta[-1][1] - newDelta) > 10**(-accuracy)):\n",
    "            test = True\n",
    "            while test:\n",
    "                attractor.deepen()\n",
    "                tDelta = getDelta(att=attractor, rw=rw, acc=accuracy)\n",
    "                test = (newDelta - tDelta) > 10**(-accuracy)\n",
    "                newDelta = tDelta\n",
    "            liDelta.append((rw.nPoints,newDelta))\n",
    "            attractor.undoDeepen()\n",
    "        showProgress((i+1)/nIter)\n",
    "    print(\"--- Finished in %s seconds ---\" % ((time.time() - start_time)//1))\n",
    "    return liDelta"
   ]
  },
  {
   "cell_type": "markdown",
   "metadata": {},
   "source": [
    "### Code"
   ]
  },
  {
   "cell_type": "code",
   "execution_count": 45,
   "metadata": {},
   "outputs": [
    {
     "data": {
      "image/png": "[encoded data removed]",
      "text/plain": [
       "<Figure size 360x360 with 1 Axes>"
      ]
     },
     "metadata": {
      "needs_background": "light"
     },
     "output_type": "display_data"
    }
   ],
   "source": [
    "coefsA = [(1/3, 0), (1/4, 3/4)]\n",
    "coefsB = [(1/3, 0),(1/3, np.sqrt(2)/4),(1/3,2/3)]\n",
    "coefsC = [(1/3, 0),(1/3, 2/9),(1/3,2/3)]\n",
    "# coefs = [(1/3, 0), (1/3, 2/3)]\n",
    "coefs = [(1/2, 0), (1/4, 3/4)]\n",
    "# coefs = [(1/5, 0), (1/3, 2/3), (1/10, 1/2), (1/7, 1/4)]\n",
    "\n",
    "ifs = IteratedFunctionSystem(coefsC)\n",
    "attractor = Attractor(ifs)\n",
    "rw = RandomWalkByIFS(ifs)\n",
    "\n",
    "ifs.show()"
   ]
  },
  {
   "cell_type": "code",
   "execution_count": 49,
   "metadata": {},
   "outputs": [
    {
     "name": "stdout",
     "output_type": "stream",
     "text": [
      "100.0%[######################################################################]\n",
      "--- Finished in 329.0 seconds ---\n"
     ]
    }
   ],
   "source": [
    "attractor.reset()\n",
    "rw.reset()\n",
    "deltas = run(attractor=attractor, rw=rw, nIter=5000)\n",
    "deltaLog = np.log10(deltas).transpose()"
   ]
  },
  {
   "cell_type": "code",
   "execution_count": 50,
   "metadata": {},
   "outputs": [
    {
     "data": {
      "image/png": "[encoded data removed]",
      "text/plain": [
       "<Figure size 1008x504 with 1 Axes>"
      ]
     },
     "metadata": {
      "needs_background": "light"
     },
     "output_type": "display_data"
    }
   ],
   "source": [
    "x = [x for (x,y) in deltas]\n",
    "y = [y for (x,y) in deltas]\n",
    "start = 5\n",
    "\n",
    "plt.figure(figsize=(14,7))\n",
    "plt.scatter(x[start:-1], y[start:-1], color=next(palette))\n",
    "plt.show()"
   ]
  },
  {
   "cell_type": "code",
   "execution_count": 51,
   "metadata": {},
   "outputs": [
    {
     "data": {
      "image/png": "[encoded data removed]",
      "text/plain": [
       "<Figure size 504x504 with 1 Axes>"
      ]
     },
     "metadata": {
      "needs_background": "light"
     },
     "output_type": "display_data"
    }
   ],
   "source": [
    "deltaLog = np.log10(deltas).transpose()\n",
    "\n",
    "m, c = np.polyfit(deltaLog[0], deltaLog[1], 1)\n",
    "\n",
    "xn = range(int(max(deltaLog[0])+2))\n",
    "yn = np.polyval([m, c], xn)\n",
    "\n",
    "plt.figure(figsize=(7,7))\n",
    "# plt.axis((-0.2, 4.2, -3.3, 0))\n",
    "plt.scatter(deltaLog[0], deltaLog[1], color=next(palette))\n",
    "plt.plot(xn, yn, color='Black', alpha=0.3, linewidth=3)\n",
    "plt.text(2.23, -0.2, 'f(x) = {:.4f}x+{:.4f}'.format(m,c), fontsize=13, bbox=dict(facecolor='white', alpha=0.3))\n",
    "plt.show()"
   ]
  },
  {
   "cell_type": "markdown",
   "metadata": {},
   "source": [
    "#### Visualization of algorithm over a short path"
   ]
  },
  {
   "cell_type": "code",
   "execution_count": 839,
   "metadata": {},
   "outputs": [
    {
     "data": {
      "image/png": "[encoded data removed]",
      "text/plain": [
       "<Figure size 1440x720 with 1 Axes>"
      ]
     },
     "metadata": {
      "needs_background": "light"
     },
     "output_type": "display_data"
    }
   ],
   "source": [
    "attractor.reset()\n",
    "rw.reset()\n",
    "\n",
    "accuracy = 10\n",
    "liDelta = [max(rw.position, 1-rw.position)]\n",
    "n=30\n",
    "\n",
    "plt.figure(figsize=(20,10))\n",
    "plt.axis((-.025, 1.025, -.5, n+.5))\n",
    "plt.xlabel('Space', size=20)\n",
    "plt.ylabel('Time→', size=20)\n",
    "plt.yticks([])\n",
    "\n",
    "plt.plot([rw.position, rw.position],[0,n+1], color=sns.color_palette()[3], label='Trace of RW')\n",
    "plt.scatter([rw.position], [0],color='Black', label='Position of RW')\n",
    "Interval(0,1).show(h=0, c=sns.color_palette()[2], l='Approximation of Attractor')\n",
    "\n",
    "# plt.legend(ncol=3,fontsize=12,bbox_to_anchor=(0.5,1.03),loc='center')\n",
    "# plt.legend(fontsize=12,bbox_to_anchor=(0.625,0.9),loc='center')\n",
    "plt.legend(fontsize=12,loc=9)\n",
    "\n",
    "for i in range(n):\n",
    "    rw.step()\n",
    "    newDelta = getDelta(att=attractor, rw=rw, acc=accuracy)\n",
    "    if ((liDelta[-1] - newDelta) > 10**(-accuracy)):\n",
    "        test = True\n",
    "        while test:\n",
    "            attractor.deepen()\n",
    "            tDelta = getDelta(att=attractor, rw=rw, acc=accuracy)\n",
    "            test = (newDelta - tDelta) > 10**(-accuracy)\n",
    "            newDelta = tDelta\n",
    "        liDelta.append(newDelta)        \n",
    "        attractor.undoDeepen()\n",
    "    \n",
    "    plt.scatter([rw.position],[i+1],color='Black')\n",
    "    plt.plot([rw.position,rw.position],[i+1,n+1],color=sns.color_palette()[3])\n",
    "    attractor.show(h=i+1, c=sns.color_palette()[2])\n",
    "\n",
    "plt.show()"
   ]
  },
  {
   "cell_type": "code",
   "execution_count": 1015,
   "metadata": {},
   "outputs": [
    {
     "data": {
      "image/png": "[encoded data removed]",
      "text/plain": [
       "<Figure size 1440x360 with 1 Axes>"
      ]
     },
     "metadata": {
      "needs_background": "light"
     },
     "output_type": "display_data"
    }
   ],
   "source": [
    "attractor.reset()\n",
    "\n",
    "plt.figure(figsize=(20,5))\n",
    "plt.ylabel('Depth', size=20)\n",
    "plt.yticks([0,1,2,3,4])\n",
    "attractor.show(h=0, c=sns.color_palette()[4])\n",
    "for i in range(4):\n",
    "    attractor.deepen()\n",
    "    attractor.show(h=i+1, c=sns.color_palette()[4])"
   ]
  },
  {
   "cell_type": "code",
   "execution_count": 1075,
   "metadata": {},
   "outputs": [
    {
     "name": "stdout",
     "output_type": "stream",
     "text": [
      "dgdfgd\n"
     ]
    }
   ],
   "source": [
    "rw.reset()\n",
    "attractor.reset()\n",
    "\n",
    "[rw.step() for _ in range(10000)]\n",
    "\n",
    "deltas = [getDelta(attractor,rw,acc=10)]\n",
    "for i in range(15):\n",
    "    attractor.deepen()\n",
    "    deltas.append(getDelta(attractor,rw,acc=10))\n",
    "\n",
    "plt.figure(figsize=(20,5))\n",
    "plt.scatter(range(16),deltas,s=60,color=sns.color_palette()[9])\n",
    "plt.plot([0,15],[deltas[-1],deltas[-1]],lw=3,alpha=0.6,color=sns.color_palette()[5])\n",
    "plt.xlabel('Depth',size=20)\n",
    "plt.show()"
   ]
  },
  {
   "cell_type": "code",
   "execution_count": null,
   "metadata": {},
   "outputs": [],
   "source": []
  },
  {
   "cell_type": "code",
   "execution_count": null,
   "metadata": {},
   "outputs": [],
   "source": []
  },
  {
   "cell_type": "code",
   "execution_count": null,
   "metadata": {},
   "outputs": [],
   "source": []
  },
  {
   "cell_type": "code",
   "execution_count": null,
   "metadata": {},
   "outputs": [],
   "source": []
  },
  {
   "cell_type": "code",
   "execution_count": null,
   "metadata": {},
   "outputs": [],
   "source": []
  },
  {
   "cell_type": "markdown",
   "metadata": {},
   "source": [
    "### Sandbox"
   ]
  },
  {
   "cell_type": "code",
   "execution_count": null,
   "metadata": {},
   "outputs": [],
   "source": [
    "attractor.deepen()"
   ]
  },
  {
   "cell_type": "code",
   "execution_count": null,
   "metadata": {},
   "outputs": [],
   "source": [
    "rw.step()"
   ]
  },
  {
   "cell_type": "code",
   "execution_count": 165,
   "metadata": {},
   "outputs": [],
   "source": [
    "getDelta(attractor, rw, acc=10)"
   ]
  },
  {
   "cell_type": "code",
   "execution_count": 104,
   "metadata": {},
   "outputs": [
    {
     "name": "stdout",
     "output_type": "stream",
     "text": [
      "--- 7.174118995666504 seconds ---\n"
     ]
    }
   ],
   "source": [
    "start_time = time.time()\n",
    "getDelta(attractor, rw, acc=10)\n",
    "print(\"--- %s seconds ---\" % (time.time() - start_time))"
   ]
  },
  {
   "cell_type": "code",
   "execution_count": 15,
   "metadata": {},
   "outputs": [
    {
     "name": "stdout",
     "output_type": "stream",
     "text": [
      "--- 0.5790340900421143 seconds ---\n",
      "--- 3.643695831298828 seconds ---\n"
     ]
    }
   ],
   "source": [
    "n = 1000000\n",
    "\n",
    "li = list(range(10))*(n)\n",
    "lo = np.random.randint(10, size=n*10)\n",
    "\n",
    "start_time = time.time()\n",
    "sorted(li)\n",
    "print(\"--- %s seconds ---\" % (time.time() - start_time))\n",
    "\n",
    "start_time = time.time()\n",
    "sorted(lo)\n",
    "print(\"--- %s seconds ---\" % (time.time() - start_time))"
   ]
  },
  {
   "cell_type": "code",
   "execution_count": 131,
   "metadata": {},
   "outputs": [
    {
     "name": "stdout",
     "output_type": "stream",
     "text": [
      "--- 2.655930280685425 seconds ---\n",
      "--- 25.82972240447998 seconds ---\n"
     ]
    }
   ],
   "source": [
    "n = 100000\n",
    "\n",
    "li = []\n",
    "lo = []\n",
    "\n",
    "start_time = time.time()\n",
    "[li.insert(0,i) for i in range(n)]\n",
    "print(\"--- %s seconds ---\" % (time.time() - start_time))\n",
    "\n",
    "start_time = time.time()\n",
    "for i in range(n):\n",
    "    lo = [i] + lo \n",
    "print(\"--- %s seconds ---\" % (time.time() - start_time))"
   ]
  },
  {
   "cell_type": "markdown",
   "metadata": {},
   "source": [
    "### Interactive Visualization"
   ]
  },
  {
   "cell_type": "code",
   "execution_count": 442,
   "metadata": {},
   "outputs": [],
   "source": [
    "orbit = rw.walk(1000)\n",
    "cover = Cover(.0001, orbit.points)"
   ]
  },
  {
   "cell_type": "code",
   "execution_count": 456,
   "metadata": {},
   "outputs": [],
   "source": [
    "# lines of cover\n",
    "xCover = flatten([[interval.start, interval.end, None] for interval in cover.cover])\n",
    "yCover = flatten([[0, 0, None] for _ in cover.cover])\n",
    "markerCover = dict(color='DarkGrey', size=5, line=dict(color='DarkGrey'))\n",
    "\n",
    "# markers of orbit\n",
    "markerOrbit = dict(color='Black', size=5)\n",
    "\n",
    "# plot\n",
    "toRemove = ['lasso2d','autoScale2d','toggleSpikelines','hoverCompareCartesian']\n",
    "fig = go.Figure()\n",
    "\n",
    "fig.update_layout(title_text=\"Delta-cover of orbit of RW generated by IFS\")\n",
    "\n",
    "fig.add_trace(go.Scatter(mode='markers', x=orbit.points, y=np.zeros(len(orbit.points)), marker=markerOrbit))\n",
    "fig.add_trace(go.Scatter(x=xCover, y=yCover, marker=markerCover))\n",
    "# fig.show(config={'displayModeBar': True, 'scrollZoom': True, 'modeBarButtonsToRemove': toRemove})\n",
    "fig.write_html(\"delta_cover.html\", auto_open=True)"
   ]
  }
 ],
 "metadata": {
  "celltoolbar": "Raw Cell Format",
  "kernelspec": {
   "display_name": "Python 3",
   "language": "python",
   "name": "python3"
  },
  "language_info": {
   "codemirror_mode": {
    "name": "ipython",
    "version": 3
   },
   "file_extension": ".py",
   "mimetype": "text/x-python",
   "name": "python",
   "nbconvert_exporter": "python",
   "pygments_lexer": "ipython3",
   "version": "3.7.6"
  }
 },
 "nbformat": 4,
 "nbformat_minor": 4
}
